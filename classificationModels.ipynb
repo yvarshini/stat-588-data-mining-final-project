{
 "cells": [
  {
   "cell_type": "code",
   "execution_count": 5,
   "metadata": {},
   "outputs": [],
   "source": [
    "# install required libraries\n",
    "# ! pip install scikit-learn pandas numpy zipfile statistics xgboost"
   ]
  },
  {
   "cell_type": "code",
   "execution_count": 6,
   "metadata": {},
   "outputs": [],
   "source": [
    "# import libraries\n",
    "from statistics import mean, stdev\n",
    "import numpy as np\n",
    "import pandas as pd\n",
    "from sklearn.ensemble import ExtraTreesClassifier, RandomForestClassifier\n",
    "from sklearn.datasets import load_digits\n",
    "from sklearn.model_selection import train_test_split, RepeatedStratifiedKFold, cross_val_score\n",
    "from sklearn import metrics\n",
    "from xgboost import XGBClassifier"
   ]
  },
  {
   "cell_type": "code",
   "execution_count": 7,
   "metadata": {},
   "outputs": [],
   "source": [
    "# loading the dataset\n",
    "digits = load_digits() # dataset containing handwritten digits\n",
    "digits_df = pd.DataFrame(digits.data, columns=digits.feature_names)"
   ]
  },
  {
   "cell_type": "code",
   "execution_count": 8,
   "metadata": {},
   "outputs": [],
   "source": [
    "# splitting the data into training and test data - 80:20 split\n",
    "x_tr, x_test, y_tr, y_test = train_test_split(digits_df, digits.target, train_size = 0.8, shuffle = True)"
   ]
  },
  {
   "cell_type": "markdown",
   "metadata": {},
   "source": [
    "# Extra Trees Classifier for Handwriting Data"
   ]
  },
  {
   "cell_type": "code",
   "execution_count": 9,
   "metadata": {},
   "outputs": [
    {
     "name": "stdout",
     "output_type": "stream",
     "text": [
      "accuracy of ET classifier: 0.980 (0.013)\n"
     ]
    }
   ],
   "source": [
    "# defining the model\n",
    "model = ExtraTreesClassifier()\n",
    "\n",
    "# 10-fold cross-validation\n",
    "digits_cv = RepeatedStratifiedKFold(n_splits = 10)\n",
    "cv_scores = cross_val_score(model, x_tr, y_tr, scoring = \"accuracy\", cv = digits_cv)\n",
    "\n",
    "# accuracy using the training data\n",
    "print(\"accuracy of ET classifier: %.3f (%.3f)\" % (mean(cv_scores), stdev(cv_scores)))"
   ]
  },
  {
   "cell_type": "code",
   "execution_count": 10,
   "metadata": {},
   "outputs": [
    {
     "data": {
      "text/plain": [
       "0.978"
      ]
     },
     "execution_count": 10,
     "metadata": {},
     "output_type": "execute_result"
    }
   ],
   "source": [
    "# making predictions on the model using the test data\n",
    "# fitting the model on the training data\n",
    "model.fit(x_tr, y_tr)\n",
    "\n",
    "# making predictions on the test data\n",
    "et_preds = model.predict(x_test)\n",
    "\n",
    "# accuracy\n",
    "round(metrics.accuracy_score(y_test, et_preds), 3)"
   ]
  },
  {
   "cell_type": "markdown",
   "metadata": {},
   "source": [
    "# Random Forest Algorithm For Classification"
   ]
  },
  {
   "cell_type": "code",
   "execution_count": 11,
   "metadata": {},
   "outputs": [
    {
     "name": "stdout",
     "output_type": "stream",
     "text": [
      "accuracy of RF classifier: 0.974 (0.014)\n"
     ]
    }
   ],
   "source": [
    "# defining the model\n",
    "model = RandomForestClassifier()\n",
    "\n",
    "# 10-fold cross-validation\n",
    "digits_cv = RepeatedStratifiedKFold(n_splits = 10)\n",
    "cv_scores = cross_val_score(model, x_tr, y_tr, scoring = \"accuracy\", cv = digits_cv)\n",
    "\n",
    "# accuracy using the training data\n",
    "print(\"accuracy of RF classifier: %.3f (%.3f)\" % (mean(cv_scores), stdev(cv_scores)))"
   ]
  },
  {
   "cell_type": "code",
   "execution_count": 12,
   "metadata": {},
   "outputs": [
    {
     "name": "stdout",
     "output_type": "stream",
     "text": [
      "test accuracy for RF: 0.969\n",
      "test MSE for RF: 0.614\n"
     ]
    }
   ],
   "source": [
    "# fitting the model on the training data\n",
    "model.fit(x_tr, y_tr)\n",
    "\n",
    "# making predictions using the fitted model on the test data\n",
    "rf_preds = model.predict(x_test)\n",
    "\n",
    "# accuracy\n",
    "print(\"test accuracy for RF: %.3f\" % metrics.accuracy_score(y_test, rf_preds))\n",
    "# MSE\n",
    "print(\"test MSE for RF: %.3f\" % metrics.mean_squared_error(y_test, rf_preds))"
   ]
  },
  {
   "cell_type": "markdown",
   "metadata": {},
   "source": [
    "# XGBoost For Classification"
   ]
  },
  {
   "cell_type": "code",
   "execution_count": 13,
   "metadata": {},
   "outputs": [
    {
     "name": "stdout",
     "output_type": "stream",
     "text": [
      "accuracy of XGB classifier: 0.965 (0.016)\n"
     ]
    }
   ],
   "source": [
    "# defining the model\n",
    "model = XGBClassifier()\n",
    "\n",
    "# 10-fold cross-validation\n",
    "digits_cv = RepeatedStratifiedKFold(n_splits = 10)\n",
    "cv_scores = cross_val_score(model, x_tr, y_tr, scoring = \"accuracy\", cv = digits_cv)\n",
    "\n",
    "# accuracy using the training data\n",
    "print(\"accuracy of XGB classifier: %.3f (%.3f)\" % (mean(cv_scores), stdev(cv_scores)))"
   ]
  },
  {
   "cell_type": "code",
   "execution_count": 14,
   "metadata": {},
   "outputs": [
    {
     "name": "stdout",
     "output_type": "stream",
     "text": [
      "test accuracy for RF: 0.958\n",
      "test MSE for RF: 0.956\n"
     ]
    }
   ],
   "source": [
    "# fitting the model on the training data\n",
    "model.fit(x_tr, y_tr)\n",
    "\n",
    "# making predictions using the fitted model on the test data\n",
    "xgb_preds = model.predict(x_test)\n",
    "\n",
    "# accuracy\n",
    "print(\"test accuracy for RF: %.3f\" % metrics.accuracy_score(y_test, xgb_preds))\n",
    "# MSE\n",
    "print(\"test MSE for RF: %.3f\" % metrics.mean_squared_error(y_test, xgb_preds))"
   ]
  }
 ],
 "metadata": {
  "kernelspec": {
   "display_name": "Python 3.10.7 64-bit",
   "language": "python",
   "name": "python3"
  },
  "language_info": {
   "codemirror_mode": {
    "name": "ipython",
    "version": 3
   },
   "file_extension": ".py",
   "mimetype": "text/x-python",
   "name": "python",
   "nbconvert_exporter": "python",
   "pygments_lexer": "ipython3",
   "version": "3.10.7"
  },
  "orig_nbformat": 4,
  "vscode": {
   "interpreter": {
    "hash": "aee8b7b246df8f9039afb4144a1f6fd8d2ca17a180786b69acc140d282b71a49"
   }
  }
 },
 "nbformat": 4,
 "nbformat_minor": 2
}

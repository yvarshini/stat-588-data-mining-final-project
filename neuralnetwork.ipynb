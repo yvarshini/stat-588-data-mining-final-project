{
 "cells": [
  {
   "attachments": {},
   "cell_type": "markdown",
   "metadata": {},
   "source": [
    "Import the necessary libraries and load the dataset:"
   ]
  },
  {
   "cell_type": "code",
   "execution_count": 7,
   "metadata": {},
   "outputs": [],
   "source": [
    "import pandas as pd\n",
    "import numpy as np\n",
    "from sklearn.datasets import load_digits\n",
    "\n",
    "digits = load_digits()\n",
    "df = pd.DataFrame(digits.data, columns=digits.feature_names)\n",
    "df['target'] = digits.target\n"
   ]
  },
  {
   "attachments": {},
   "cell_type": "markdown",
   "metadata": {},
   "source": [
    "Filter the dataset to only include instances that correspond to the digit \"2\" or \"3\":"
   ]
  },
  {
   "cell_type": "code",
   "execution_count": 8,
   "metadata": {},
   "outputs": [],
   "source": [
    "df = df[df['target'].isin([2, 3])]\n"
   ]
  },
  {
   "attachments": {},
   "cell_type": "markdown",
   "metadata": {},
   "source": [
    "Select a subset of variables (\"pixel_1\", \"pixel_3\", \"pixel_5\", \"pixel_7\", and \"pixel_15\") to use for classification:"
   ]
  },
  {
   "cell_type": "code",
   "execution_count": 9,
   "metadata": {},
   "outputs": [],
   "source": [
    "df = df[['target', 'pixel_0_0', 'pixel_0_2', 'pixel_0_4', 'pixel_0_6', 'pixel_1_0']]\n"
   ]
  },
  {
   "attachments": {},
   "cell_type": "markdown",
   "metadata": {},
   "source": [
    "Split the dataset into training and test sets:"
   ]
  },
  {
   "cell_type": "code",
   "execution_count": 10,
   "metadata": {},
   "outputs": [],
   "source": [
    "from sklearn.model_selection import train_test_split\n",
    "\n",
    "X_train, X_test, y_train, y_test = train_test_split(df.drop('target', axis=1), df['target'], test_size=0.2, random_state=42)"
   ]
  },
  {
   "attachments": {},
   "cell_type": "markdown",
   "metadata": {},
   "source": [
    "Fit a linear regression model to the training data using all variables except the target label:"
   ]
  },
  {
   "cell_type": "code",
   "execution_count": 11,
   "metadata": {},
   "outputs": [],
   "source": [
    "from sklearn.linear_model import LinearRegression\n",
    "\n",
    "lin_mod = LinearRegression().fit(X_train, y_train)\n"
   ]
  },
  {
   "attachments": {},
   "cell_type": "markdown",
   "metadata": {},
   "source": [
    "Predict the target labels for the training and test data using the linear regression model, and calculate the error rate for each:"
   ]
  },
  {
   "cell_type": "code",
   "execution_count": 12,
   "metadata": {},
   "outputs": [],
   "source": [
    "pred_vals_lin_train = np.where(lin_mod.predict(X_train) > 2.5, 3, 2)\n",
    "error_rate_lin_train = np.mean(pred_vals_lin_train != y_train)\n",
    "\n",
    "pred_vals_lin_test = np.where(lin_mod.predict(X_test) > 2.5, 3, 2)\n",
    "error_rate_lin_test = np.mean(pred_vals_lin_test != y_test)\n"
   ]
  },
  {
   "cell_type": "code",
   "execution_count": 15,
   "metadata": {},
   "outputs": [
    {
     "name": "stdout",
     "output_type": "stream",
     "text": [
      "0.3611111111111111\n"
     ]
    }
   ],
   "source": [
    "print(error_rate_lin_test)"
   ]
  },
  {
   "attachments": {},
   "cell_type": "markdown",
   "metadata": {},
   "source": [
    "Perform KNN classification on the training and test data using k values of 1, 3, 5, 7, and 15, and calculate the error rate for each:"
   ]
  },
  {
   "cell_type": "code",
   "execution_count": 16,
   "metadata": {},
   "outputs": [],
   "source": [
    "from sklearn.neighbors import KNeighborsClassifier\n",
    "\n",
    "k_values = [1, 3, 5, 7, 15]\n",
    "error_rate_knn_train_list = []\n",
    "error_rate_knn_test_list = []\n",
    "\n",
    "for k in k_values:\n",
    "    knn = KNeighborsClassifier(n_neighbors=k)\n",
    "    knn.fit(X_train, y_train)\n",
    "    \n",
    "    pred_vals_knn_train = knn.predict(X_train)\n",
    "    error_rate_knn_train = np.mean(pred_vals_knn_train != y_train)\n",
    "    error_rate_knn_train_list.append(error_rate_knn_train)\n",
    "    \n",
    "    pred_vals_knn_test = knn.predict(X_test)\n",
    "    error_rate_knn_test = np.mean(pred_vals_knn_test != y_test)\n",
    "    error_rate_knn_test_list.append(error_rate_knn_test)\n"
   ]
  },
  {
   "attachments": {},
   "cell_type": "markdown",
   "metadata": {},
   "source": [
    "Create two data frames containing the error rates for the KNN classification on the training and test data, respectively, for each value of k:"
   ]
  },
  {
   "cell_type": "code",
   "execution_count": 17,
   "metadata": {},
   "outputs": [],
   "source": [
    "error_rate_knn_train_df = pd.DataFrame({'k': k_values, 'train_error': error_rate_knn_train_list})\n",
    "error_rate_knn_test_df = pd.DataFrame({'k': k_values, 'test_error': error_rate_knn_test_list})\n"
   ]
  },
  {
   "cell_type": "code",
   "execution_count": 18,
   "metadata": {},
   "outputs": [
    {
     "data": {
      "text/html": [
       "<div>\n",
       "<style scoped>\n",
       "    .dataframe tbody tr th:only-of-type {\n",
       "        vertical-align: middle;\n",
       "    }\n",
       "\n",
       "    .dataframe tbody tr th {\n",
       "        vertical-align: top;\n",
       "    }\n",
       "\n",
       "    .dataframe thead th {\n",
       "        text-align: right;\n",
       "    }\n",
       "</style>\n",
       "<table border=\"1\" class=\"dataframe\">\n",
       "  <thead>\n",
       "    <tr style=\"text-align: right;\">\n",
       "      <th></th>\n",
       "      <th>k</th>\n",
       "      <th>test_error</th>\n",
       "    </tr>\n",
       "  </thead>\n",
       "  <tbody>\n",
       "    <tr>\n",
       "      <th>0</th>\n",
       "      <td>1</td>\n",
       "      <td>0.388889</td>\n",
       "    </tr>\n",
       "    <tr>\n",
       "      <th>1</th>\n",
       "      <td>3</td>\n",
       "      <td>0.402778</td>\n",
       "    </tr>\n",
       "    <tr>\n",
       "      <th>2</th>\n",
       "      <td>5</td>\n",
       "      <td>0.513889</td>\n",
       "    </tr>\n",
       "    <tr>\n",
       "      <th>3</th>\n",
       "      <td>7</td>\n",
       "      <td>0.416667</td>\n",
       "    </tr>\n",
       "    <tr>\n",
       "      <th>4</th>\n",
       "      <td>15</td>\n",
       "      <td>0.402778</td>\n",
       "    </tr>\n",
       "  </tbody>\n",
       "</table>\n",
       "</div>"
      ],
      "text/plain": [
       "    k  test_error\n",
       "0   1    0.388889\n",
       "1   3    0.402778\n",
       "2   5    0.513889\n",
       "3   7    0.416667\n",
       "4  15    0.402778"
      ]
     },
     "execution_count": 18,
     "metadata": {},
     "output_type": "execute_result"
    }
   ],
   "source": [
    "error_rate_knn_test_df"
   ]
  },
  {
   "cell_type": "code",
   "execution_count": null,
   "metadata": {},
   "outputs": [],
   "source": []
  },
  {
   "attachments": {},
   "cell_type": "markdown",
   "metadata": {},
   "source": [
    "Neural Networks"
   ]
  },
  {
   "cell_type": "code",
   "execution_count": 14,
   "metadata": {},
   "outputs": [
    {
     "name": "stderr",
     "output_type": "stream",
     "text": [
      "WARNING:absl:`lr` is deprecated, please use `learning_rate` instead, or use the legacy optimizer, e.g.,tf.keras.optimizers.legacy.Adam.\n"
     ]
    },
    {
     "name": "stdout",
     "output_type": "stream",
     "text": [
      "Error rate on the test set: 0.3055555820465088\n"
     ]
    }
   ],
   "source": [
    "import pandas as pd\n",
    "import numpy as np\n",
    "from sklearn.datasets import load_digits\n",
    "from sklearn.model_selection import train_test_split\n",
    "from tensorflow.keras.models import Sequential\n",
    "from tensorflow.keras.layers import Dense\n",
    "from tensorflow.keras.optimizers import Adam\n",
    "\n",
    "# Load and preprocess the data\n",
    "digits = load_digits()\n",
    "df = pd.DataFrame(digits.data, columns=digits.feature_names)\n",
    "df['target'] = digits.target\n",
    "\n",
    "df = df[df['target'].isin([2, 3])]\n",
    "df = df[['target', 'pixel_0_0', 'pixel_0_2', 'pixel_0_4', 'pixel_0_6', 'pixel_1_0']]\n",
    "\n",
    "# Split the dataset into training and test sets\n",
    "X_train, X_test, y_train, y_test = train_test_split(df.drop('target', axis=1), df['target'], test_size=0.2, random_state=42)\n",
    "\n",
    "# Create a neural network model\n",
    "model = Sequential()\n",
    "model.add(Dense(16, input_dim=X_train.shape[1], activation='relu'))\n",
    "model.add(Dense(1, activation='sigmoid'))\n",
    "\n",
    "# Compile the model\n",
    "optimizer = Adam(lr=0.001)\n",
    "model.compile(loss='binary_crossentropy', optimizer=optimizer, metrics=['accuracy'])\n",
    "\n",
    "# Train the model\n",
    "y_train_binary = (y_train == 3).astype(int)\n",
    "y_test_binary = (y_test == 3).astype(int)\n",
    "model.fit(X_train, y_train_binary, epochs=50, batch_size=16, verbose=0)\n",
    "\n",
    "# Evaluate the model\n",
    "_, train_accuracy = model.evaluate(X_train, y_train_binary, verbose=0)\n",
    "_, test_accuracy = model.evaluate(X_test, y_test_binary, verbose=0)\n",
    "\n",
    "# Calculate the error rates\n",
    "error_rate_train = 1 - train_accuracy\n",
    "error_rate_test = 1 - test_accuracy\n",
    "\n",
    "print(\"Error rate on the test set:\", error_rate_test)\n"
   ]
  },
  {
   "cell_type": "markdown",
   "metadata": {},
   "source": []
  },
  {
   "attachments": {},
   "cell_type": "markdown",
   "metadata": {},
   "source": [
    "ExtraTreesClassifier"
   ]
  },
  {
   "cell_type": "code",
   "execution_count": 17,
   "metadata": {},
   "outputs": [
    {
     "name": "stdout",
     "output_type": "stream",
     "text": [
      "Error rate on the test set: 0.4305555555555556\n"
     ]
    }
   ],
   "source": [
    "import pandas as pd\n",
    "import numpy as np\n",
    "from sklearn.datasets import load_digits\n",
    "from sklearn.model_selection import train_test_split\n",
    "from sklearn.ensemble import ExtraTreesClassifier\n",
    "\n",
    "# Load and preprocess the data\n",
    "digits = load_digits()\n",
    "df = pd.DataFrame(digits.data, columns=digits.feature_names)\n",
    "df['target'] = digits.target\n",
    "\n",
    "df = df[df['target'].isin([2, 3])]\n",
    "df = df[['target', 'pixel_0_0', 'pixel_0_2', 'pixel_0_4', 'pixel_0_6', 'pixel_1_0']]\n",
    "\n",
    "# Split the dataset into training and test sets\n",
    "X_train, X_test, y_train, y_test = train_test_split(df.drop('target', axis=1), df['target'], test_size=0.2, random_state=42)\n",
    "\n",
    "# Create an ExtraTreesClassifier\n",
    "extra_trees = ExtraTreesClassifier(n_estimators=100, random_state=42)\n",
    "\n",
    "# Fit the model\n",
    "extra_trees.fit(X_train, y_train)\n",
    "\n",
    "# Predict the target labels for the training and test data using the ExtraTreesClassifier\n",
    "pred_vals_extra_trees_train = extra_trees.predict(X_train)\n",
    "pred_vals_extra_trees_test = extra_trees.predict(X_test)\n",
    "\n",
    "# Calculate the error rates\n",
    "error_rate_extra_trees_train = np.mean(pred_vals_extra_trees_train != y_train)\n",
    "error_rate_extra_trees_test = np.mean(pred_vals_extra_trees_test != y_test)\n",
    "\n",
    "print(\"Error rate on the test set:\", error_rate_extra_trees_test)\n"
   ]
  }
 ],
 "metadata": {
  "kernelspec": {
   "display_name": "jupyterenv",
   "language": "python",
   "name": "python3"
  },
  "language_info": {
   "codemirror_mode": {
    "name": "ipython",
    "version": 3
   },
   "file_extension": ".py",
   "mimetype": "text/x-python",
   "name": "python",
   "nbconvert_exporter": "python",
   "pygments_lexer": "ipython3",
   "version": "3.8.2"
  },
  "orig_nbformat": 4
 },
 "nbformat": 4,
 "nbformat_minor": 2
}

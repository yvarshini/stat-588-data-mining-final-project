{
 "cells": [
  {
   "cell_type": "code",
   "execution_count": 2,
   "metadata": {},
   "outputs": [],
   "source": [
    "# importing libraries\n",
    "from statistics import mean, stdev\n",
    "import numpy as np\n",
    "import pandas as pd\n",
    "from sklearn.datasets import load_digits\n",
    "from sklearn.model_selection import train_test_split, RepeatedStratifiedKFold, cross_val_score\n",
    "from sklearn.ensemble import RandomForestClassifier\n",
    "from sklearn import metrics"
   ]
  },
  {
   "cell_type": "code",
   "execution_count": 3,
   "metadata": {},
   "outputs": [],
   "source": [
    "# loading the dataset\n",
    "digits = load_digits() # dataset containing handwritten digits\n",
    "digits_df = pd.DataFrame(digits.data, columns=digits.feature_names)"
   ]
  },
  {
   "cell_type": "code",
   "execution_count": 4,
   "metadata": {},
   "outputs": [],
   "source": [
    "# splitting the data into training and test data - 80:20 split\n",
    "x_tr, x_test, y_tr, y_test = train_test_split(digits_df, digits.target, train_size = 0.8, shuffle = True)"
   ]
  },
  {
   "cell_type": "markdown",
   "metadata": {},
   "source": [
    "# Random Forest Algorithm For Classification"
   ]
  },
  {
   "cell_type": "code",
   "execution_count": 5,
   "metadata": {},
   "outputs": [
    {
     "data": {
      "text/plain": [
       "0.992"
      ]
     },
     "execution_count": 5,
     "metadata": {},
     "output_type": "execute_result"
    }
   ],
   "source": [
    "# defining the model\n",
    "model = RandomForestClassifier()\n",
    "\n",
    "# 10-fold cross-validation\n",
    "digits_cv = RepeatedStratifiedKFold(n_splits = 10)\n",
    "cv_scores = cross_val_score(model, x_tr, y_tr, scoring = \"accuracy\", cv = digits_cv)\n",
    "\n",
    "# accuracy using the training data\n",
    "print(\"accuracy of RF classifier: %.3f (%.3f)\" % (mean(cv_scores), stdev(cv_scores)))\n"
   ]
  },
  {
   "cell_type": "code",
   "execution_count": 10,
   "metadata": {},
   "outputs": [
    {
     "name": "stdout",
     "output_type": "stream",
     "text": [
      "test accuracy: 0.978\n"
     ]
    }
   ],
   "source": [
    "# fitting the model on the training data\n",
    "model.fit(x_tr, y_tr)\n",
    "\n",
    "# making predictions using the fitted model on the test data\n",
    "rf_preds = model.predict(x_test)\n",
    "\n",
    "# accuracy\n",
    "print(\"test accuracy: %.3f\" % round(metrics.accuracy_score(y_test, rf_preds), 3))"
   ]
  }
 ],
 "metadata": {
  "kernelspec": {
   "display_name": "Python 3.10.7 64-bit",
   "language": "python",
   "name": "python3"
  },
  "language_info": {
   "codemirror_mode": {
    "name": "ipython",
    "version": 3
   },
   "file_extension": ".py",
   "mimetype": "text/x-python",
   "name": "python",
   "nbconvert_exporter": "python",
   "pygments_lexer": "ipython3",
   "version": "3.10.7"
  },
  "orig_nbformat": 4,
  "vscode": {
   "interpreter": {
    "hash": "aee8b7b246df8f9039afb4144a1f6fd8d2ca17a180786b69acc140d282b71a49"
   }
  }
 },
 "nbformat": 4,
 "nbformat_minor": 2
}
